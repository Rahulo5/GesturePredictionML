{
 "cells": [
  {
   "cell_type": "code",
   "execution_count": 1,
   "metadata": {},
   "outputs": [],
   "source": [
    "import cv2\n",
    "import numpy as np\n",
    "from PIL import Image\n",
    "import matplotlib.pyplot as plt\n",
    "import matplotlib.image as mpimg"
   ]
  },
  {
   "cell_type": "code",
   "execution_count": null,
   "metadata": {},
   "outputs": [],
   "source": [
    "def pointremove(image):\n",
    "    \n",
    "    img=image.copy()\n",
    "    nb_components, output, stats, centroids = cv2.connectedComponentsWithStats(img, connectivity=4)\n",
    "    sizes = stats[:, -1]\n",
    "    for i in range(1, nb_components):\n",
    "        if sizes[i]<100 :\n",
    "            img[output==i]=0\n",
    "    return img"
   ]
  },
  {
   "cell_type": "code",
   "execution_count": 2,
   "metadata": {},
   "outputs": [],
   "source": [
    "def maxmeanpreprop(image):\n",
    "    img1 = image.copy()\n",
    "    g_img = cv2.cvtColor(img1, cv2.COLOR_BGR2GRAY)\n",
    "    img = g_img.copy()\n",
    "    ret1,th1 = cv2.threshold(g_img,40,255,cv2.THRESH_BINARY)\n",
    "    th1=pointremove(th1)\n",
    "    blur = cv2.GaussianBlur(th1,(5,5),0)\n",
    "    ret2,th2 = cv2.threshold(blur,130,255,cv2.THRESH_OTSU)\n",
    "\n",
    "    a_img=th2&img\n",
    "    plt.imshow(a_img)\n",
    "    nb_components, output, stats, centroids = cv2.connectedComponentsWithStats(a_img, connectivity=4)\n",
    "    sizes = stats[:, -1]\n",
    "\n",
    "    max_label = 0\n",
    "    max_mean = 0\n",
    "\n",
    "    for i in range(1, nb_components):\n",
    "        mean=np.mean(a_img[output==i])\n",
    "        if mean > max_mean and sizes[i]>1500 :\n",
    "            max_label = i\n",
    "            max_mean = mean\n",
    "\n",
    "    img3 = np.zeros(output.shape)\n",
    "    img3[output == max_label] = 255\n",
    "    new_image = img3[stats[max_label][1]:stats[max_label][1]+stats[max_label][3],stats[max_label][0]:stats[max_label][0]+stats[max_label][2]]\n",
    "    image_for_input = cv2.resize(new_image, (100, 100), interpolation = cv2.INTER_NEAREST)\n",
    "    return image_for_input"
   ]
  },
  {
   "cell_type": "code",
   "execution_count": null,
   "metadata": {},
   "outputs": [],
   "source": [
    "from keras.models import Sequential\n",
    "from keras.layers import Dense, Flatten, Conv2D\n",
    "\n",
    "import tensorflow as tf\n",
    "\n",
    "run_opts = tf.RunOptions(report_tensor_allocations_upon_oom = True)\n",
    "\n",
    "\n",
    "# create model\n",
    "model = Sequential()\n",
    "#add model layers\n",
    "\n",
    "model.add(Conv2D(100, kernel_size=3, activation=\"relu\", input_shape=(100,100,1)))\n",
    "model.add(Conv2D(100, kernel_size=3, activation=\"relu\"))\n",
    "model.add(Flatten())\n",
    "model.add(Dense(15, activation=\"softmax\"))\n",
    "\n",
    "# Compile model\n",
    "model.compile(loss='categorical_crossentropy', optimizer='adam', metrics=['accuracy'])\n",
    "\n",
    "from keras.utils import to_categorical\n",
    "y_binary = to_categorical(np.array(Y))\n",
    "y_binary_test = to_categorical(np.array(Y_test))\n",
    "\n",
    "# # Fit the model\n",
    "model.fit(np.expand_dims(np.array(X), axis=-1), y_binary, validation_data=(np.expand_dims(np.array(X_test), axis=-1), y_binary_test), epochs=5)\n",
    "\n",
    "# # evaluate the model\n",
    "scores = model.evaluate(np.expand_dims(np.array(X_test), axis=-1), y_binary_test)\n",
    "print(\"\\n%s: %.2f%%\" % (model.metrics_names[1], scores[1]*100))"
   ]
  }
 ],
 "metadata": {
  "kernelspec": {
   "display_name": "Python 3",
   "language": "python",
   "name": "python3"
  },
  "language_info": {
   "codemirror_mode": {
    "name": "ipython",
    "version": 3
   },
   "file_extension": ".py",
   "mimetype": "text/x-python",
   "name": "python",
   "nbconvert_exporter": "python",
   "pygments_lexer": "ipython3",
   "version": "3.7.6"
  }
 },
 "nbformat": 4,
 "nbformat_minor": 4
}
