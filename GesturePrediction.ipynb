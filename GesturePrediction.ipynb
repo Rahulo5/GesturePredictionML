{
 "cells": [
  {
   "cell_type": "markdown",
   "metadata": {},
   "source": [
    "# Gesture based control for consumer electronics"
   ]
  },
  {
   "cell_type": "markdown",
   "metadata": {},
   "source": [
    "Importing required libraries"
   ]
  },
  {
   "cell_type": "code",
   "execution_count": 19,
   "metadata": {},
   "outputs": [],
   "source": [
    "import cv2\n",
    "import numpy as np\n",
    "import matplotlib.pyplot as plt\n",
    "import numpy"
   ]
  },
  {
   "cell_type": "code",
   "execution_count": 20,
   "metadata": {},
   "outputs": [
    {
     "data": {
      "image/png": "[encoded data removed]",
      "text/plain": [
       "<Figure size 432x288 with 1 Axes>"
      ]
     },
     "metadata": {},
     "output_type": "display_data"
    }
   ],
   "source": [
    "X = []\n",
    "Y = []\n",
    "X_test = []\n",
    "Y_test = []\n",
    "for i in range(25):\n",
    "    for j in range(15):\n",
    "        img = cv2.imread(\"work/u\"+ str(i+1) + \"_\" + str(j+1) + \".png\")\n",
    "        img1 = cv2.cvtColor(img, cv2.COLOR_BGR2GRAY)\n",
    "        k = cv2.normalize(img1, dst=None, alpha=0, beta=255,norm_type=cv2.NORM_MINMAX, dtype=cv2.CV_8U)\n",
    "        blur = cv2.GaussianBlur(k,(5,5),0)\n",
    "        ret, thresh1 = cv2.threshold(blur, 60, 255, cv2.THRESH_BINARY + \n",
    "                                            cv2.THRESH_OTSU)\n",
    "        nb_components, output, stats, centroids = cv2.connectedComponentsWithStats(thresh1, connectivity=4)\n",
    "        sizes = stats[:, -1]\n",
    "\n",
    "        max_label = 1\n",
    "        max_size = sizes[1]\n",
    "        for k in range(2, nb_components):\n",
    "            if sizes[k] > max_size:\n",
    "                max_label = k\n",
    "                max_size = sizes[k]\n",
    "\n",
    "        img2 = np.zeros(output.shape)\n",
    "        img2[output == max_label] = 255\n",
    "        \n",
    "        new_image = img2[stats[max_label][1]:stats[max_label][1]+stats[max_label][3],stats[max_label][0]:stats[max_label][0]+stats[max_label][2]]\n",
    "        image_for_input = cv2.resize(new_image, (100, 100), interpolation = cv2.INTER_NEAREST)\n",
    "        plt.imshow(image_for_input)\n",
    "        if(i<15):\n",
    "            X.append(image_for_input)\n",
    "            Y.append(j)\n",
    "        else:\n",
    "            X_test.append(image_for_input)\n",
    "            Y_test.append(j)\n",
    "        cv2.imwrite(\"work/o\"+ str(i+1) + \"_\" + str(j+1) + \".png\",thresh1)"
   ]
  },
  {
   "cell_type": "code",
   "execution_count": 21,
   "metadata": {},
   "outputs": [
    {
     "name": "stdout",
     "output_type": "stream",
     "text": [
      "Train on 225 samples, validate on 150 samples\n",
      "Epoch 1/5\n",
      "225/225 [==============================] - 22s 97ms/step - loss: 1392.7254 - accuracy: 0.0756 - val_loss: 11.1789 - val_accuracy: 0.0667\n",
      "Epoch 2/5\n",
      "225/225 [==============================] - 21s 95ms/step - loss: 2.6968 - accuracy: 0.5378 - val_loss: 3.0861 - val_accuracy: 0.1200\n",
      "Epoch 3/5\n",
      "225/225 [==============================] - 22s 100ms/step - loss: 0.1336 - accuracy: 0.9644 - val_loss: 4.7368 - val_accuracy: 0.1400\n",
      "Epoch 4/5\n",
      "225/225 [==============================] - 22s 98ms/step - loss: 2.2405e-04 - accuracy: 1.0000 - val_loss: 8.5611 - val_accuracy: 0.1200\n",
      "Epoch 5/5\n",
      "225/225 [==============================] - 21s 95ms/step - loss: 3.5198e-05 - accuracy: 1.0000 - val_loss: 11.3378 - val_accuracy: 0.1067\n",
      "150/150 [==============================] - 3s 20ms/step\n",
      "\n",
      "accuracy: 10.67%\n"
     ]
    }
   ],
   "source": [
    "from keras.models import Sequential\n",
    "from keras.layers import Dense, Flatten, Conv2D\n",
    "\n",
    "import tensorflow as tf\n",
    "\n",
    "run_opts = tf.RunOptions(report_tensor_allocations_upon_oom = True)\n",
    "\n",
    "\n",
    "# create model\n",
    "model = Sequential()\n",
    "#add model layers\n",
    "\n",
    "model.add(Conv2D(100, kernel_size=3, activation=\"relu\", input_shape=(100,100,1)))\n",
    "model.add(Conv2D(100, kernel_size=3, activation=\"relu\"))\n",
    "model.add(Flatten())\n",
    "model.add(Dense(15, activation=\"softmax\"))\n",
    "\n",
    "# Compile model\n",
    "model.compile(loss='categorical_crossentropy', optimizer='adam', metrics=['accuracy'])\n",
    "\n",
    "from keras.utils import to_categorical\n",
    "y_binary = to_categorical(np.array(Y))\n",
    "y_binary_test = to_categorical(np.array(Y_test))\n",
    "\n",
    "# # Fit the model\n",
    "model.fit(np.expand_dims(np.array(X), axis=-1), y_binary, validation_data=(np.expand_dims(np.array(X_test), axis=-1), y_binary_test), epochs=5)\n",
    "\n",
    "# # evaluate the model\n",
    "scores = model.evaluate(np.expand_dims(np.array(X_test), axis=-1), y_binary_test)\n",
    "print(\"\\n%s: %.2f%%\" % (model.metrics_names[1], scores[1]*100))"
   ]
  }
 ],
 "metadata": {
  "kernelspec": {
   "display_name": "conda_amazonei_tensorflow_p36",
   "language": "python",
   "name": "conda_amazonei_tensorflow_p36"
  },
  "language_info": {
   "codemirror_mode": {
    "name": "ipython",
    "version": 3
   },
   "file_extension": ".py",
   "mimetype": "text/x-python",
   "name": "python",
   "nbconvert_exporter": "python",
   "pygments_lexer": "ipython3",
   "version": "3.6.6"
  }
 },
 "nbformat": 4,
 "nbformat_minor": 4
}
