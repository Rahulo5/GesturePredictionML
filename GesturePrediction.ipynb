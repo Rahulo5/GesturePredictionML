{
 "cells": [
  {
   "cell_type": "markdown",
   "metadata": {},
   "source": [
    "# Gesture based control for consumer electronics"
   ]
  },
  {
   "cell_type": "markdown",
   "metadata": {},
   "source": [
    "Importing required libraries"
   ]
  },
  {
   "cell_type": "code",
   "execution_count": 107,
   "metadata": {},
   "outputs": [
    {
     "name": "stdout",
     "output_type": "stream",
     "text": [
      "[1 2 5]\n"
     ]
    }
   ],
   "source": [
    "import cv2\n",
    "import numpy as np\n",
    "import matplotlib.pyplot as plt\n",
    "import numpy\n",
    "a = [[1,2,5],[3,4,6]]\n",
    "b = numpy.array(a)\n",
    "print(b[(0),:])"
   ]
  },
  {
   "cell_type": "raw",
   "metadata": {},
   "source": [
    "Reading image Using openCV library and normalization"
   ]
  },
  {
   "cell_type": "code",
   "execution_count": 57,
   "metadata": {},
   "outputs": [],
   "source": [
    "a = cv2.imread(\"DataSet/C/1.png\")\n",
    "img1 = a.copy()\n",
    "img1[:,:,0] = cv2.normalize(a[:,:,0], dst=None, alpha=0, beta=255,norm_type=cv2.NORM_MINMAX, dtype=cv2.CV_8U)\n",
    "img1[:,:,1] = cv2.normalize(a[:,:,1], dst=None, alpha=0, beta=255,norm_type=cv2.NORM_MINMAX, dtype=cv2.CV_8U)\n",
    "img1[:,:,2] = cv2.normalize(a[:,:,2], dst=None, alpha=0, beta=255,norm_type=cv2.NORM_MINMAX, dtype=cv2.CV_8U)"
   ]
  },
  {
   "cell_type": "markdown",
   "metadata": {},
   "source": [
    "Conversion of RGB image into grayscale and normalization"
   ]
  },
  {
   "cell_type": "code",
   "execution_count": 58,
   "metadata": {},
   "outputs": [],
   "source": [
    "img = cv2.cvtColor(img1, cv2.COLOR_BGR2GRAY)\n",
    "k = cv2.normalize(img, dst=None, alpha=0, beta=255,norm_type=cv2.NORM_MINMAX, dtype=cv2.CV_8U)"
   ]
  },
  {
   "cell_type": "markdown",
   "metadata": {},
   "source": [
    "GussianBlur and OTSU's thresholding"
   ]
  },
  {
   "cell_type": "code",
   "execution_count": 66,
   "metadata": {},
   "outputs": [
    {
     "name": "stdout",
     "output_type": "stream",
     "text": [
      "255\n",
      "273\n"
     ]
    },
    {
     "data": {
      "text/plain": [
       "<matplotlib.image.AxesImage at 0x7f506656a4a8>"
      ]
     },
     "execution_count": 66,
     "metadata": {},
     "output_type": "execute_result"
    },
    {
     "data": {
      "image/png": "[encoded data removed]",
      "text/plain": [
       "<Figure size 432x288 with 1 Axes>"
      ]
     },
     "metadata": {},
     "output_type": "display_data"
    }
   ],
   "source": [
    "blur = cv2.GaussianBlur(img,(5,5),0)\n",
    "ret, thresh1 = cv2.threshold(img, 60, 255, cv2.THRESH_BINARY + \n",
    "                                            cv2.THRESH_OTSU)\n",
    "stretch_near = cv2.resize(thresh1, (255, 255),  \n",
    "               interpolation = cv2.INTER_NEAREST)\n",
    "print(len(stretch_near))\n",
    "print(len(thresh1))\n",
    "plt.imshow(thresh1)"
   ]
  },
  {
   "cell_type": "code",
   "execution_count": 67,
   "metadata": {},
   "outputs": [
    {
     "data": {
      "text/plain": [
       "<matplotlib.image.AxesImage at 0x7f50664cf470>"
      ]
     },
     "execution_count": 67,
     "metadata": {},
     "output_type": "execute_result"
    },
    {
     "data": {
      "image/png": "[encoded data removed]",
      "text/plain": [
       "<Figure size 432x288 with 1 Axes>"
      ]
     },
     "metadata": {},
     "output_type": "display_data"
    }
   ],
   "source": [
    "plt.imshow(stretch_near)"
   ]
  },
  {
   "cell_type": "markdown",
   "metadata": {},
   "source": [
    "Showing image"
   ]
  },
  {
   "cell_type": "code",
   "execution_count": 51,
   "metadata": {},
   "outputs": [
    {
     "data": {
      "text/plain": [
       "<matplotlib.image.AxesImage at 0x7f507c3242e8>"
      ]
     },
     "execution_count": 51,
     "metadata": {},
     "output_type": "execute_result"
    },
    {
     "data": {
      "image/png": "[encoded data removed]",
      "text/plain": [
       "<Figure size 432x288 with 1 Axes>"
      ]
     },
     "metadata": {},
     "output_type": "display_data"
    }
   ],
   "source": [
    "plt.imshow(thresh1)"
   ]
  },
  {
   "cell_type": "code",
   "execution_count": 89,
   "metadata": {},
   "outputs": [
    {
     "name": "stdout",
     "output_type": "stream",
     "text": [
      "[ 161   98   93  160 4358]\n"
     ]
    },
    {
     "data": {
      "image/png": "[encoded data removed]",
      "text/plain": [
       "<Figure size 432x288 with 1 Axes>"
      ]
     },
     "metadata": {},
     "output_type": "display_data"
    }
   ],
   "source": [
    "nb_components, output, stats, centroids = cv2.connectedComponentsWithStats(thresh1, connectivity=4)\n",
    "sizes = stats[:, -1]\n",
    "\n",
    "max_label = 1\n",
    "max_size = sizes[1]\n",
    "for i in range(2, nb_components):\n",
    "    if sizes[i] > max_size:\n",
    "        max_label = i\n",
    "        max_size = sizes[i]\n",
    "\n",
    "img2 = np.zeros(output.shape)\n",
    "img2[output == max_label] = 255\n",
    "plt.imshow(img2)\n",
    "print(stats[max_label])"
   ]
  },
  {
   "cell_type": "markdown",
   "metadata": {},
   "source": [
    "Rescaling of image"
   ]
  },
  {
   "cell_type": "code",
   "execution_count": 104,
   "metadata": {},
   "outputs": [
    {
     "data": {
      "text/plain": [
       "<matplotlib.image.AxesImage at 0x7f505fb63908>"
      ]
     },
     "execution_count": 104,
     "metadata": {},
     "output_type": "execute_result"
    },
    {
     "data": {
      "image/png": "[encoded data removed]",
      "text/plain": [
       "<Figure size 432x288 with 1 Axes>"
      ]
     },
     "metadata": {},
     "output_type": "display_data"
    }
   ],
   "source": [
    "img2 = numpy.array(img2)\n",
    "new_image = img2[:,(161,254)]\n",
    "c = new_image[(98,158),:]\n",
    "image_for_input = cv2.resize(img2, (100, 100),  \n",
    "               interpolation = cv2.INTER_NEAREST)\n",
    "plt.imshow(c) "
   ]
  },
  {
   "cell_type": "code",
   "execution_count": 84,
   "metadata": {},
   "outputs": [],
   "source": [
    "from sklearn.neural_network import MLPClassifier\n",
    "\n",
    "start_time = time.time()\n",
    "clf = MLPClassifier(hidden_layer_sizes = (100,100), activation = 'relu', solver = 'sgd', max_iter=100, batch_size=100, verbose = 'true', tol=10**-6, learning_rate = 'invscaling', learning_rate_init = 0.2, power_t = 0.5)\n",
    "clf.fit(input_data_train,output_data_train)\n",
    "end_time = time.time()\n",
    "print(\"Train\", clf.score(input_data_train,output_data_train))\n",
    "print(\"Test\", clf.score(input_data_test,output_data_test))\n",
    "print(\"Time\", end_time - start_time)"
   ]
  }
 ],
 "metadata": {
  "kernelspec": {
   "display_name": "conda_python3",
   "language": "python",
   "name": "conda_python3"
  },
  "language_info": {
   "codemirror_mode": {
    "name": "ipython",
    "version": 3
   },
   "file_extension": ".py",
   "mimetype": "text/x-python",
   "name": "python",
   "nbconvert_exporter": "python",
   "pygments_lexer": "ipython3",
   "version": "3.6.5"
  }
 },
 "nbformat": 4,
 "nbformat_minor": 4
}
